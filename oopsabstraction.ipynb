{
 "cells": [
  {
   "cell_type": "code",
   "execution_count": null,
   "id": "780572fb-b30e-4317-8a7e-0444af048218",
   "metadata": {},
   "outputs": [],
   "source": [
    "# What is Abstraction in OOps? Explain with an example\n",
    "\n",
    "In simple terms, abstraction “displays” only the relevant attributes of objects\n",
    "and “hides” the unnecessary details. \n",
    "For example, when we are driving a car, we are only concerned about driving the car\n",
    "like start/stop the car, accelerate/ break, etc."
   ]
  },
  {
   "cell_type": "code",
   "execution_count": null,
   "id": "ad591b48-11c6-4301-a32f-479153da0ffa",
   "metadata": {},
   "outputs": [],
   "source": [
    "# Differentiate between Abstraction and Encapsulation. Explain with an example.\n",
    "\n",
    "Abstraction is a way of representing some specific data.\n",
    "Encapsulation is a way of hiding the complexity of something and exposing only the parts you wish to expose.\n",
    "For example, if you have a class that has one or more private fields that you use to store the data,\n",
    "then you are in encapsulation."
   ]
  },
  {
   "cell_type": "code",
   "execution_count": null,
   "id": "809c452e-154e-412b-b5b7-b4f5842282f9",
   "metadata": {},
   "outputs": [],
   "source": [
    "# What is abc module in python? Why is it used?\n",
    "\n",
    "The 'abc' module in Python library provides the infrastructure for defining custom abstract base classes.\n",
    "'abc' works by marking methods of the base class as abstract. \n",
    "This is done by @absttractmethod decorator."
   ]
  },
  {
   "cell_type": "code",
   "execution_count": null,
   "id": "5110a0ef-406f-4908-bec2-6c65989e0186",
   "metadata": {},
   "outputs": [],
   "source": [
    "# How can we achieve data abstraction?\n",
    "\n",
    "Partial abstraction is achieved by having implementations with concrete methods. \n",
    "Full abstraction is achieved using interfaces with abstract types that specify a class' behavior."
   ]
  },
  {
   "cell_type": "code",
   "execution_count": null,
   "id": "588928e5-6e92-40bf-af4f-cefd9c50190b",
   "metadata": {},
   "outputs": [],
   "source": [
    "# Can we create an instance of an abstract class? Explain your answer.\n",
    "\n",
    "Abstract classes are not complete,\n",
    "as they may have some methods that are not defined.\n",
    "So we cannot create an instance or object of an abstract class in Python."
   ]
  }
 ],
 "metadata": {
  "kernelspec": {
   "display_name": "Python 3 (ipykernel)",
   "language": "python",
   "name": "python3"
  },
  "language_info": {
   "codemirror_mode": {
    "name": "ipython",
    "version": 3
   },
   "file_extension": ".py",
   "mimetype": "text/x-python",
   "name": "python",
   "nbconvert_exporter": "python",
   "pygments_lexer": "ipython3",
   "version": "3.10.8"
  }
 },
 "nbformat": 4,
 "nbformat_minor": 5
}
